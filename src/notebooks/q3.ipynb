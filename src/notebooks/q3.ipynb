{
 "cells": [
  {
   "cell_type": "markdown",
   "id": "09b6ebd1-7018-4e20-9dfe-fb70072c96d5",
   "metadata": {},
   "source": [
    "# <center> BLG 527E Machine Learning Homework 2"
   ]
  },
  {
   "cell_type": "markdown",
   "id": "e100cf25-61d4-4dd5-a4a8-5be409eb710b",
   "metadata": {},
   "source": [
    "## Question 3 - Expectation Maximization"
   ]
  },
  {
   "cell_type": "code",
   "execution_count": 33,
   "id": "bdddb437-cf4d-42c3-90ef-3a6f9d329c06",
   "metadata": {},
   "outputs": [
    {
     "name": "stdout",
     "output_type": "stream",
     "text": [
      "The autoreload extension is already loaded. To reload it, use:\n",
      "  %reload_ext autoreload\n"
     ]
    }
   ],
   "source": [
    "import os\n",
    "import sys\n",
    "import numpy as np\n",
    "\n",
    "# Add upper folder to pythons' path to reach custom functions\n",
    "if '..' not in sys.path:\n",
    "    sys.path.insert(0, '..')\n",
    "\n",
    "%load_ext autoreload\n",
    "%autoreload 2"
   ]
  },
  {
   "cell_type": "code",
   "execution_count": 34,
   "id": "1b6d7801-913c-4c17-8a25-8b0b9e4ed303",
   "metadata": {},
   "outputs": [],
   "source": [
    "# 0->T, 1->H\n",
    "data = [\n",
    "    [1, 0, 0, 0, 1, 1, 0, 1, 0, 1],  \n",
    "    [1, 1, 1, 1, 0, 1, 1, 1, 1, 1],  \n",
    "    [1, 0, 1, 1, 1, 1, 1, 0, 1, 1],  \n",
    "    [1, 0, 1, 0, 0, 0, 1, 1, 0, 0],  \n",
    "    [0, 1, 1, 1, 0, 1, 1, 1, 0, 1],  \n",
    "]"
   ]
  },
  {
   "cell_type": "code",
   "execution_count": 18,
   "id": "cee2c635-2742-49ca-9128-11b188ea4030",
   "metadata": {},
   "outputs": [],
   "source": [
    "from em import ExpectationMaximization"
   ]
  },
  {
   "cell_type": "code",
   "execution_count": 32,
   "id": "e9442537-39a0-43d4-9a6e-775258b554a3",
   "metadata": {},
   "outputs": [
    {
     "name": "stdout",
     "output_type": "stream",
     "text": [
      "QA: 0.7934, QB: 0.5139, pi_A: 0.5228, pi_B: 0.4772\n"
     ]
    }
   ],
   "source": [
    "em = ExpectationMaximization()\n",
    "em.fit(np.array(data))\n",
    "print(em)"
   ]
  }
 ],
 "metadata": {
  "kernelspec": {
   "display_name": "Python 3 (ipykernel)",
   "language": "python",
   "name": "python3"
  },
  "language_info": {
   "codemirror_mode": {
    "name": "ipython",
    "version": 3
   },
   "file_extension": ".py",
   "mimetype": "text/x-python",
   "name": "python",
   "nbconvert_exporter": "python",
   "pygments_lexer": "ipython3",
   "version": "3.9.13"
  }
 },
 "nbformat": 4,
 "nbformat_minor": 5
}
