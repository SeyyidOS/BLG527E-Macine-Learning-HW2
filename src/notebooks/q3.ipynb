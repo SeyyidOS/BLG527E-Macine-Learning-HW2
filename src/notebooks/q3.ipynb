{
 "cells": [
  {
   "cell_type": "markdown",
   "id": "09b6ebd1-7018-4e20-9dfe-fb70072c96d5",
   "metadata": {},
   "source": [
    "# <center> BLG 527E Machine Learning Homework 2"
   ]
  },
  {
   "cell_type": "markdown",
   "id": "e100cf25-61d4-4dd5-a4a8-5be409eb710b",
   "metadata": {},
   "source": [
    "## Question 3 - Expectation Maximization"
   ]
  },
  {
   "cell_type": "code",
   "execution_count": 1,
   "id": "b72c5dc5-7c0d-4021-b0a4-e04e18365815",
   "metadata": {},
   "outputs": [
    {
     "data": {
      "text/plain": [
       "(0.06810286253505259, 0.0418350687290999)"
      ]
     },
     "execution_count": 1,
     "metadata": {},
     "output_type": "execute_result"
    }
   ],
   "source": [
    "# EM Algorithm implementation for coin toss experiment\n",
    "import numpy as np\n",
    "\n",
    "# Sample data representing number of heads (H) and tails (T) for each coin\n",
    "# Suppose 1 represents heads (H) and 0 represents tails (T)\n",
    "data = [\n",
    "    [1, 0, 0, 0, 1, 1, 0, 1, 0, 1],  # Coin A, mostly heads\n",
    "    [1, 1, 1, 1, 0, 1, 1, 1, 1, 1],  # Coin B, mostly tails\n",
    "    [1, 0, 1, 1, 1, 1, 1, 0, 1, 1],  # Coin A\n",
    "    [1, 0, 1, 0, 0, 0, 1, 1, 0, 0],  # Coin B\n",
    "    [0, 1, 1, 1, 0, 1, 1, 1, 0, 1],  # Coin A\n",
    "]\n",
    "\n",
    "# Convert data to numpy array for easier manipulation\n",
    "data = np.array(data)\n",
    "\n",
    "# Initialize probabilities randomly\n",
    "Q_A = np.random.rand()\n",
    "Q_B = np.random.rand()\n",
    "\n",
    "# Threshold to check convergence\n",
    "threshold = 1e-6\n",
    "previous_likelihood = 0\n",
    "\n",
    "# EM Algorithm\n",
    "for iteration in range(1000):\n",
    "    # E-Step: Calculate the expected responsibilities\n",
    "    responsibility_A = np.zeros(data.shape)\n",
    "    responsibility_B = np.zeros(data.shape)\n",
    "\n",
    "    for i, row in enumerate(data):\n",
    "        likelihood_A = Q_A ** np.sum(row) * (1 - Q_A) ** (len(row) - np.sum(row))\n",
    "        likelihood_B = Q_B ** np.sum(row) * (1 - Q_B) ** (len(row) - np.sum(row))\n",
    "        total_likelihood = likelihood_A + likelihood_B\n",
    "        responsibility_A[i] = likelihood_A / total_likelihood\n",
    "        responsibility_B[i] = likelihood_B / total_likelihood\n",
    "\n",
    "    # M-Step: Update probabilities based on responsibilities\n",
    "    Q_A = np.sum(responsibility_A * data) / np.sum(responsibility_A * len(data[0]))\n",
    "    Q_B = np.sum(responsibility_B * data) / np.sum(responsibility_B * len(data[0]))\n",
    "\n",
    "    # Check for convergence\n",
    "    current_likelihood = np.sum(np.log(responsibility_A + responsibility_B))\n",
    "    if np.abs(current_likelihood - previous_likelihood) < threshold:\n",
    "        break\n",
    "    previous_likelihood = current_likelihood\n",
    "\n",
    "# Final estimated probabilities\n",
    "Q_A, Q_B"
   ]
  },
  {
   "cell_type": "code",
   "execution_count": null,
   "id": "5b7278b2-0ede-4844-b943-3cd7f7f853f1",
   "metadata": {},
   "outputs": [],
   "source": []
  }
 ],
 "metadata": {
  "kernelspec": {
   "display_name": "Python 3 (ipykernel)",
   "language": "python",
   "name": "python3"
  },
  "language_info": {
   "codemirror_mode": {
    "name": "ipython",
    "version": 3
   },
   "file_extension": ".py",
   "mimetype": "text/x-python",
   "name": "python",
   "nbconvert_exporter": "python",
   "pygments_lexer": "ipython3",
   "version": "3.9.13"
  }
 },
 "nbformat": 4,
 "nbformat_minor": 5
}
